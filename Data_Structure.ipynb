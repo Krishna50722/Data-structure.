{
  "nbformat": 4,
  "nbformat_minor": 0,
  "metadata": {
    "colab": {
      "provenance": []
    },
    "kernelspec": {
      "name": "python3",
      "display_name": "Python 3"
    },
    "language_info": {
      "name": "python"
    }
  },
  "cells": [
    {
      "cell_type": "markdown",
      "source": [
        "Data Structure\n"
      ],
      "metadata": {
        "id": "qx2N-aL-Q-zH"
      }
    },
    {
      "cell_type": "markdown",
      "source": [
        " 1: What are data structures, and why are they important?\n",
        "\n",
        "  => Data structures are ways to store and organize data in a computer efficiently so that operations like access, insertion, deletion, and search can be performed quickly. They are essential because they help manage data in an optimized way, making algorithms run faster and use memory efficiently.  \n",
        "\n",
        " **Examples of data structures:**  \n",
        "1. **Lists** – Dynamic arrays that allow fast insertions and deletions.  \n",
        "2. **Tuples** – Immutable sequences that store multiple values.  \n",
        "3. **Dictionaries** – Key-value pairs that allow fast lookups.  \n",
        "4. **Sets** – Collections of unique elements that prevent duplicates.  \n",
        "5. **Stacks & Queues** – Used in algorithms like recursion and scheduling.  \n",
        "6. **Trees & Graphs** – Used in complex structures like file systems and social networks.  \n",
        "\n",
        " **Importance of data structures:**  \n",
        "- They **increase efficiency** in operations like sorting and searching.  \n",
        "- They **reduce memory usage** by organizing data optimally.  \n",
        "- They **enable complex problem-solving**, like AI and databases.  \n",
        "\n",
        "---\n",
        " 2: Explain the difference between mutable and immutable data types with examples.\n",
        "\n",
        "  => A **mutable** object can be changed after it is created, whereas an **immutable** object cannot be changed once created.  \n",
        "\n",
        " **Mutable Objects (Can be changed):**  \n",
        "- Lists  \n",
        "- Dictionaries  \n",
        "- Sets  \n",
        "\n",
        " **Immutable Objects (Cannot be changed):**  \n",
        "- Strings  \n",
        "- Tuples  \n",
        "- Integers & Floats  \n",
        "\n",
        " **Example of a mutable object (List):**  \n",
        "```python\n",
        "my_list = [1, 2, 3]\n",
        "my_list.append(4)  # Modifies the list\n",
        "print(my_list)  # Output: [1, 2, 3, 4]\n",
        "```\n",
        "\n",
        " **Example of an immutable object (Tuple):**  \n",
        "```python\n",
        "my_tuple = (1, 2, 3)\n",
        "my_tuple[1] = 5  # ❌ Raises TypeError because tuples cannot be modified\n",
        "```\n",
        "\n",
        "---\n",
        "\n",
        " 3: What are the main differences between lists and tuples in Python?  \n",
        "\n",
        "=> | Feature       | List                         | Tuple                          |\n",
        "|--------------|-----------------------------|--------------------------------|\n",
        "\n",
        "| **Mutability** | Mutable (can be changed)   | Immutable (cannot be changed) |\n",
        "| **Speed**    | Slower (because of mutability) | Faster (because of immutability) |\n",
        "| **Memory**   | Takes more memory | Takes less memory |\n",
        "| **Use Case** | When frequent modifications are needed | When data should not change |\n",
        "\n",
        " **Example:**  \n",
        "```python\n",
        "# List (can be modified)\n",
        "my_list = [1, 2, 3]\n",
        "my_list.append(4)\n",
        "print(my_list)  # Output: [1, 2, 3, 4]\n",
        "\n",
        "# Tuple (cannot be modified)\n",
        "my_tuple = (1, 2, 3)\n",
        "# my_tuple[1] = 5  # ❌ Raises TypeError\n",
        "```\n",
        "\n",
        "---\n",
        "\n",
        " 4: Describe how dictionaries store data.\n",
        "\n",
        "  => Dictionaries in Python store data as **key-value pairs** using a **hash table** internally.  \n",
        "\n",
        "Each **key** is hashed to generate a unique index, allowing for fast access. Unlike lists, dictionaries do not store elements in order.  \n",
        "\n",
        "\n",
        " **Example of a dictionary:**  \n",
        "```python\n",
        "student = {\"name\": \"Krishna\", \"age\": 29}\n",
        "print(student[\"name\"])  # Output: Krishna\n",
        "```\n",
        "\n",
        "Since dictionaries use hashing, accessing an element has an average time complexity of **O(1)** (constant time).  \n",
        "\n",
        "---\n",
        "\n",
        " 5: Why might you use a set instead of a list in Python?\n",
        "\n",
        "  => Sets are useful in situations where:  \n",
        "1. **Duplicate values** should be removed automatically.  \n",
        "2. **Fast lookups** are required (O(1) complexity vs. O(n) in lists).  \n",
        "\n",
        " **Example:**  \n",
        "```python\n",
        "my_list = [1, 2, 2, 3, 4]\n",
        "my_set = set(my_list)  # Removes duplicates\n",
        "print(my_set)  # Output: {1, 2, 3, 4}\n",
        "```\n",
        "\n",
        "In contrast, lists allow duplicates and have **O(n) lookup time** for checking if an element exists.  \n",
        "\n",
        "---\n",
        "\n",
        "6: What is a string in Python, and how is it different from a list?\n",
        "\n",
        "  => A **string** is an immutable sequence of characters, whereas a **list** is mutable and can contain different data types.  \n",
        "\n",
        "#### **Differences between strings and lists:**  \n",
        "| Feature | String | List |\n",
        "|---------|--------|------|\n",
        "| Mutability | Immutable | Mutable |\n",
        "| Data type | Contains only characters | Can contain multiple data types |\n",
        "| Modification | Cannot be changed | Can be changed |\n",
        "\n",
        " **Example:**  \n",
        "```python\n",
        "# Strings are immutable\n",
        "text = \"Hello\"\n",
        "# text[0] = \"M\"  # ❌ Raises TypeError\n",
        "\n",
        "# Lists are mutable\n",
        "my_list = [\"H\", \"e\", \"l\", \"l\", \"o\"]\n",
        "my_list[0] = \"M\"\n",
        "print(my_list)  # Output: ['M', 'e', 'l', 'l', 'o']\n",
        "```\n",
        "\n",
        "---\n",
        "\n",
        " 7: How do tuples ensure data integrity in Python?\n",
        "\n",
        "  => Tuples are **immutable**, meaning once created, they **cannot be changed**. This prevents accidental modifications, making them ideal for storing **constant values** or **database records**.  \n",
        "\n",
        " **Example:**  \n",
        "```python\n",
        "coordinates = (10.5, 20.7)\n",
        "# coordinates[0] = 15.0  # ❌ Raises TypeError (cannot modify a tuple)\n",
        "```\n",
        "\n",
        "This ensures **data integrity** because values cannot be altered unexpectedly.  \n",
        "\n",
        "---\n",
        "\n",
        " 8: What is a hash table, and how does it relate to dictionaries in Python?\n",
        "\n",
        "  => A **hash table** is a data structure that stores **key-value pairs** using a **hashing function** to compute an index for each key.  \n",
        "\n",
        "Python dictionaries are implemented using hash tables, making them **very fast for lookups (O(1) average case).**  \n",
        "\n",
        "#### **Example:**  \n",
        "```python\n",
        "my_dict = {\"apple\": 10, \"banana\": 20}\n",
        "print(my_dict[\"banana\"])  # Output: 20\n",
        "```\n",
        "\n",
        "Dictionaries leverage hash tables to **store and retrieve values efficiently.**  \n",
        "\n",
        "---\n",
        "\n",
        " 9: Can lists contain different data types in Python?\n",
        "\n",
        "  => Yes, Python **allows lists** to store **multiple data types** within a single list.  \n",
        "\n",
        " **Example:**  \n",
        "```python\n",
        "mixed_list = [1, \"hello\", 3.14, [1, 2, 3]]\n",
        "print(mixed_list)  # Output: [1, 'hello', 3.14, [1, 2, 3]]\n",
        "```\n",
        "\n",
        "Since Python is **dynamically typed**, lists can contain numbers, strings, and even other lists or dictionaries.  \n",
        "\n",
        "---\n",
        "\n",
        " 10: Explain why strings are immutable in Python.\n",
        "\n",
        "  => Strings in Python are **immutable** because:  \n",
        "1. They are stored **efficiently in memory** (reducing overhead).  \n",
        "2. They **prevent accidental modification** of data.  \n",
        "3. They enable **safe usage in dictionaries and sets** (because they can be hashed).  \n",
        "\n",
        " **Example:**  \n",
        "```python\n",
        "text = \"Hello\"\n",
        "# text[0] = \"M\"  # ❌ Raises TypeError\n",
        "\n",
        "# Instead, we create a new string:\n",
        "new_text = \"M\" + text[1:]\n",
        "print(new_text)  # Output: \"Mello\"\n",
        "```\n",
        "\n",
        "Instead of modifying strings directly, Python creates **a new string** when changes are needed.  \n",
        "\n",
        "---\n",
        "\n",
        "\n",
        "\n",
        "Text cell <hOAiN7HCX5WS>\n",
        "# %% [markdown]\n",
        "\n",
        "---\n",
        "\n",
        " 10: Explain why strings are immutable in Python.\n",
        "\n",
        "  => In Python, **strings are immutable**, meaning their contents **cannot be changed** after creation.  \n",
        "\n",
        "Reasons for string immutability:\n",
        "\n",
        "1. **Memory Optimization:**  \n",
        "   - Strings are stored in a **shared memory pool** (string interning). If they were mutable, multiple references could be modified unexpectedly.  \n",
        "2. **Hashing for Dictionary Keys:**  \n",
        "   - Strings are used as **keys in dictionaries**. If they were mutable, their hash value would change, leading to lookup failures.  \n",
        "3. **Security and Integrity:**  \n",
        "   - Many functions rely on string consistency. If strings were mutable, unintended modifications could occur.\n",
        "\n",
        "**Example:**\n",
        "\n",
        "```python\n",
        "text = \"Hello\"\n",
        "text[0] = \"M\"  # TypeError: 'str' object does not support item assignment\n",
        "```\n",
        "Instead, a new string must be created:\n",
        "```python\n",
        "new_text = \"M\" + text[1:]  # Output: \"Mello\"\n",
        "```\n",
        "---\n",
        " 11: What advantages do dictionaries offer over lists for certain tasks?\n",
        "\n",
        "\n",
        "  => Dictionaries are **more efficient** than lists in certain situations:  \n",
        "\n",
        " **1. Faster Lookups (`O(1)` vs. `O(n)`)**  \n",
        "- **Dictionaries** use a **hash table** to store key-value pairs, so retrieving a value by key takes constant time (`O(1)`).  \n",
        "- **Lists** require scanning (`O(n)`) to find an element.  \n",
        "\n",
        "**Example:**\n",
        "\n",
        "```python\n",
        "# Using a dictionary\n",
        "student_grades = {\"Alice\": \"A\", \"Bob\": \"B\"}\n",
        "print(student_grades[\"Alice\"])  # O(1)\n",
        "\n",
        "# Using a list (inefficient for lookup)\n",
        "students = [(\"Alice\", \"A\"), (\"Bob\", \"B\")]\n",
        "for name, grade in students:\n",
        "    if name == \"Alice\":\n",
        "        print(grade)  # O(n)\n",
        "```\n",
        "  \n",
        "**2. Meaningful Data Storage**  \n",
        "- Dictionary **keys** act as labels, making data retrieval intuitive.  \n",
        "\n",
        "**3. No Duplicates in Keys**  \n",
        "- Unlike lists, dictionaries prevent duplicate keys.  \n",
        "\n",
        "---\n",
        " 12: Describe a scenario where using a tuple would be preferable over a list.\n",
        "\n",
        "\n",
        "  => Tuples are preferable when **data should not be modified**.  \n",
        "\n",
        "###**Scenario 1: Storing Fixed Coordinates**  \n",
        "```python\n",
        "location = (40.7128, 74.0060)  # New York City latitude & longitude\n",
        "```\n",
        "- Coordinates should **not change**, so a tuple is ideal.  \n",
        "\n",
        "#### **Scenario 2: Dictionary Keys**  \n",
        "Tuples can be used as **keys in dictionaries**, while lists cannot.  \n",
        "```python\n",
        "locations = {\n",
        "    (40.7128, 74.0060): \"New York\",\n",
        "    (34.0522, -118.2437): \"Los Angeles\"\n",
        "}\n",
        "```\n",
        "- Lists **cannot** be used as dictionary keys since they are mutable.\n",
        "\n",
        "---\n",
        " 13: How do sets handle duplicate values in Python?\n",
        "\n",
        "\n",
        "  => Sets **automatically remove duplicates** when elements are added.  \n",
        "\n",
        "#### **Example:**\n",
        "```python\n",
        "numbers = {1, 2, 2, 3, 4, 4}\n",
        "print(numbers)  # Output: {1, 2, 3, 4} (duplicates removed)\n",
        "```\n",
        "\n",
        "#### **Why?**  \n",
        "- Sets use **hash tables** to store values, ensuring **each value is unique**.\n",
        "\n",
        "---\n",
        "### **Question 14: How does the “in” keyword work differently for lists and dictionaries?**  \n",
        "\n",
        "#### **For Lists (`O(n)`)**  \n",
        "- The `in` operator **checks every element** in the list, making it **slow (`O(n)`)**.  \n",
        "```python\n",
        "nums = [10, 20, 30, 40]\n",
        "print(20 in nums)  # True (searches through the list)\n",
        "```\n",
        "\n",
        "#### **For Dictionaries (`O(1)`)**  \n",
        "- The `in` operator checks **only keys**, making lookups **fast (`O(1)`)**.  \n",
        "```python\n",
        "my_dict = {\"name\": \"Alice\", \"age\": 25}\n",
        "print(\"name\" in my_dict)  # True (direct hash table lookup)\n",
        "```\n",
        "- **Important:** `in` checks keys, not values.  \n",
        "```python\n",
        "print(\"Alice\" in my_dict)  # False\n",
        "```\n",
        "\n",
        "---\n",
        " 15: Can you modify the elements of a tuple? Explain why or why not.\n",
        "\n",
        "\n",
        "  => No, **tuples are immutable**, meaning elements **cannot be changed** after creation.  \n",
        "\n",
        "#### **Example:**\n",
        "```python\n",
        "my_tuple = (1, 2, 3)\n",
        "my_tuple[1] = 5  # TypeError: 'tuple' object does not support item assignment\n",
        "```\n",
        "\n",
        "#### **Why?**  \n",
        "1. **Prevents accidental modifications**  \n",
        "2. **Optimized for speed and memory usage**  \n",
        "3. **Allows safe use as dictionary keys**  \n",
        "\n",
        "However, **if a tuple contains mutable elements, those can be modified**:  \n",
        "```python\n",
        "nested_tuple = ([1, 2, 3], \"fixed\")\n",
        "nested_tuple[0].append(4)  # Works, modifies list inside tuple\n",
        "print(nested_tuple)  # ([1, 2, 3, 4], 'fixed')\n",
        "```\n",
        "\n",
        "---\n",
        "###  16: What is a nested dictionary, and give an example of its use case?\n",
        "\n",
        "  => A **nested dictionary** is a dictionary inside another dictionary. It’s useful for **storing hierarchical data**.  \n",
        "\n",
        "#### **Example: Storing Student Records**\n",
        "```python\n",
        "students = {\n",
        "    \"Alice\": {\"age\": 22, \"grade\": \"A\"},\n",
        "    \"Bob\": {\"age\": 24, \"grade\": \"B\"}\n",
        "}\n",
        "print(students[\"Alice\"][\"age\"])  # Output: 22\n",
        "```\n",
        "\n",
        "---\n",
        "###  17: Describe the time complexity of accessing elements in a dictionary.\n",
        "\n",
        "\n",
        "  =>  \n",
        "- **Average case:** `O(1)` (constant time lookup using a hash function)  \n",
        "- **Worst case:** `O(n)` (rare cases when hash collisions occur)\n",
        "\n",
        "#### **Example:**\n",
        "```python\n",
        "my_dict = {\"a\": 10, \"b\": 20, \"c\": 30}\n",
        "print(my_dict[\"b\"])  # O(1) lookup\n",
        "```\n",
        "\n",
        "---\n",
        "###  18: In what situations are lists preferred over dictionaries?\n",
        "  =>\n",
        "\n",
        "1. **Maintaining Order:** Lists preserve insertion order (before Python 3.7, dictionaries didn't).  \n",
        "2. **Sequential Data Processing:** Lists are better for operations like sorting and slicing.  \n",
        "3. **Memory Efficiency:** Lists use **less memory** than dictionaries.\n",
        "\n",
        "#### **Example: Sorting a list**\n",
        "```python\n",
        "numbers = [5, 3, 8, 1]\n",
        "numbers.sort()\n",
        "print(numbers)  # Output: [1, 3, 5, 8]\n",
        "```\n",
        "\n",
        "---\n",
        "###  19: Why are dictionaries considered unordered, and how does that affect data retrieval?\n",
        "\n",
        "\n",
        "  => Before Python 3.7, dictionaries **did not maintain order** because they were implemented as **hash tables**.  \n",
        "\n",
        "- **Effect:**  \n",
        "  - **Unordered retrieval:** Elements could appear in any sequence.  \n",
        "  - **Fast lookups:** No need for sequential scanning like lists.\n",
        "\n",
        "#### **Example:**\n",
        "```python\n",
        "d = {\"z\": 1, \"x\": 2, \"y\": 3}\n",
        "print(d)  # Before Python 3.7, order was unpredictable\n",
        "```\n",
        "\n",
        "From Python 3.7+, dictionaries **preserve insertion order**.\n",
        "\n",
        "---\n",
        "###  20: Explain the difference between a list and a dictionary in terms of data retrieval.\n",
        "  =>\n",
        "\n",
        "| Feature  | List | Dictionary |\n",
        "|----------|------|-----------|\n",
        "| **Retrieval Time** | O(n) (searching element) | O(1) (direct access) |\n",
        "| **Access Method** | Index-based | Key-based |\n",
        "| **Use Case** | Ordered data storage | Key-value pair retrieval |\n",
        "\n",
        "#### **Example:**\n",
        "```python\n",
        "# List retrieval (O(n))\n",
        "my_list = [\"apple\", \"banana\", \"cherry\"]\n",
        "print(my_list[1])  # Output: \"banana\"\n",
        "\n",
        "# Dictionary retrieval (O(1))\n",
        "my_dict = {\"fruit1\": \"apple\", \"fruit2\": \"banana\"}\n",
        "print(my_dict[\"fruit2\"])  # Output: \"banana\"\n",
        "```\n",
        "\n",
        "---\n"
      ],
      "metadata": {
        "id": "u-I0eC0sRFoX"
      }
    },
    {
      "cell_type": "markdown",
      "source": [
        " 1. Write a code to create a string with your name and print it."
      ],
      "metadata": {
        "id": "v1v6T4sZftc9"
      }
    },
    {
      "cell_type": "code",
      "source": [
        "my_name = \"Krishna Biswas\"\n",
        "my_name"
      ],
      "metadata": {
        "colab": {
          "base_uri": "https://localhost:8080/",
          "height": 35
        },
        "id": "DOCCRZTjgRfu",
        "outputId": "182ecc02-081f-47fb-ea17-789a0abd2db7"
      },
      "execution_count": 2,
      "outputs": [
        {
          "output_type": "execute_result",
          "data": {
            "text/plain": [
              "'Krishna Biswas'"
            ],
            "application/vnd.google.colaboratory.intrinsic+json": {
              "type": "string"
            }
          },
          "metadata": {},
          "execution_count": 2
        }
      ]
    },
    {
      "cell_type": "markdown",
      "source": [
        " 2. Write a code to find the length of the string \"Hello World\"."
      ],
      "metadata": {
        "id": "8zfZBt2agm7N"
      }
    },
    {
      "cell_type": "code",
      "source": [
        "string = \"Hello World\"\n",
        "print(len(string))"
      ],
      "metadata": {
        "colab": {
          "base_uri": "https://localhost:8080/"
        },
        "id": "FFsb-gp2g821",
        "outputId": "185379e8-81ca-41b3-c093-79d9fae76be3"
      },
      "execution_count": 3,
      "outputs": [
        {
          "output_type": "stream",
          "name": "stdout",
          "text": [
            "11\n"
          ]
        }
      ]
    },
    {
      "cell_type": "markdown",
      "source": [
        " 3. Write a code to slice the first 3 characters from the string \"Python Programming\"."
      ],
      "metadata": {
        "id": "gdub9Ex3hAdF"
      }
    },
    {
      "cell_type": "code",
      "source": [
        "string = \"Python Programming\"\n",
        "print(string[:3])"
      ],
      "metadata": {
        "colab": {
          "base_uri": "https://localhost:8080/"
        },
        "id": "Nip3opOthT2F",
        "outputId": "14de08a1-bd7d-49ca-e383-10e67c1f5293"
      },
      "execution_count": 4,
      "outputs": [
        {
          "output_type": "stream",
          "name": "stdout",
          "text": [
            "Pyt\n"
          ]
        }
      ]
    },
    {
      "cell_type": "markdown",
      "source": [
        "  4. Write a code to convert the string \"hello\" to uppercase."
      ],
      "metadata": {
        "id": "If8fqeFlhXFl"
      }
    },
    {
      "cell_type": "code",
      "source": [
        "print(\"hello\".upper())"
      ],
      "metadata": {
        "colab": {
          "base_uri": "https://localhost:8080/"
        },
        "id": "Km2SMYRVhjkW",
        "outputId": "895ea336-b7f6-4084-d6e6-73e2ad2937e6"
      },
      "execution_count": 5,
      "outputs": [
        {
          "output_type": "stream",
          "name": "stdout",
          "text": [
            "HELLO\n"
          ]
        }
      ]
    },
    {
      "cell_type": "markdown",
      "source": [
        "  5. Write a code to replace the word \"apple\" with \"orange\" in the string \"I like apple\"."
      ],
      "metadata": {
        "id": "8Gb5Sjnfhle1"
      }
    },
    {
      "cell_type": "code",
      "source": [
        "my_string = \"I like apple\"\n",
        "new_string = my_string.replace(\"apple\", \"orange\")\n",
        "print(new_string)"
      ],
      "metadata": {
        "colab": {
          "base_uri": "https://localhost:8080/"
        },
        "id": "ponl502Ahyq9",
        "outputId": "51a744c8-3bcc-40b7-8d60-f0bd59283d9b"
      },
      "execution_count": 6,
      "outputs": [
        {
          "output_type": "stream",
          "name": "stdout",
          "text": [
            "I like orange\n"
          ]
        }
      ]
    },
    {
      "cell_type": "markdown",
      "source": [
        "  6. Write a code to create a list with numbers 1 to 5 and print it."
      ],
      "metadata": {
        "id": "pmigFZabh03F"
      }
    },
    {
      "cell_type": "code",
      "source": [
        "my_list = [1, 2, 3, 4, 5]\n",
        "print(my_list)"
      ],
      "metadata": {
        "colab": {
          "base_uri": "https://localhost:8080/"
        },
        "id": "fcDPCPQSiBcG",
        "outputId": "d0d80c0c-ef47-4b59-c29b-4961d220e2e5"
      },
      "execution_count": 7,
      "outputs": [
        {
          "output_type": "stream",
          "name": "stdout",
          "text": [
            "[1, 2, 3, 4, 5]\n"
          ]
        }
      ]
    },
    {
      "cell_type": "markdown",
      "source": [
        "  7. Write a code to append the number 10 to the list [1, 2, 3, 4]."
      ],
      "metadata": {
        "id": "Vwm96nKsiD_F"
      }
    },
    {
      "cell_type": "code",
      "source": [
        "my_list = [1, 2, 3, 4]\n",
        "my_list.append(10)\n",
        "print(my_list)"
      ],
      "metadata": {
        "colab": {
          "base_uri": "https://localhost:8080/"
        },
        "id": "v379VvjYiP2l",
        "outputId": "e43a74c6-78f2-4bfd-a606-53b967ae68b4"
      },
      "execution_count": 8,
      "outputs": [
        {
          "output_type": "stream",
          "name": "stdout",
          "text": [
            "[1, 2, 3, 4, 10]\n"
          ]
        }
      ]
    },
    {
      "cell_type": "markdown",
      "source": [
        "  8.  Write a code to remove the number 3 from the list [1, 2, 3, 4, 5]."
      ],
      "metadata": {
        "id": "UHHMZ98viSHN"
      }
    },
    {
      "cell_type": "code",
      "source": [
        "my_list = [1, 2, 3, 4, 5]\n",
        "my_list.remove(3)\n",
        "my_list"
      ],
      "metadata": {
        "colab": {
          "base_uri": "https://localhost:8080/"
        },
        "id": "83gPKUF0ieJO",
        "outputId": "0305364d-4a3a-448e-c151-f47363c15709"
      },
      "execution_count": 9,
      "outputs": [
        {
          "output_type": "execute_result",
          "data": {
            "text/plain": [
              "[1, 2, 4, 5]"
            ]
          },
          "metadata": {},
          "execution_count": 9
        }
      ]
    },
    {
      "cell_type": "markdown",
      "source": [
        "  9. Write a code to access the second element in the list ['a', 'b', 'c', 'd']."
      ],
      "metadata": {
        "id": "3idWf-7TigJF"
      }
    },
    {
      "cell_type": "code",
      "source": [
        "my_list = ['a', 'b', 'c', 'd']\n",
        "print(my_list[1])"
      ],
      "metadata": {
        "colab": {
          "base_uri": "https://localhost:8080/"
        },
        "id": "JFYYQp4iiqFt",
        "outputId": "396dba31-4ba9-4ec9-8874-388b8e16fb51"
      },
      "execution_count": 10,
      "outputs": [
        {
          "output_type": "stream",
          "name": "stdout",
          "text": [
            "b\n"
          ]
        }
      ]
    },
    {
      "cell_type": "markdown",
      "source": [
        "  10. Write a code to reverse the list [10, 20, 30, 40, 50]."
      ],
      "metadata": {
        "id": "ngsfsvBIisr1"
      }
    },
    {
      "cell_type": "code",
      "source": [
        "my_list = [10, 20, 30, 40, 50]\n",
        "my_list.reverse()\n",
        "my_list"
      ],
      "metadata": {
        "colab": {
          "base_uri": "https://localhost:8080/"
        },
        "id": "PqzYzra5i5ld",
        "outputId": "614e97c6-891b-4904-8fe9-2d327579592f"
      },
      "execution_count": 11,
      "outputs": [
        {
          "output_type": "execute_result",
          "data": {
            "text/plain": [
              "[50, 40, 30, 20, 10]"
            ]
          },
          "metadata": {},
          "execution_count": 11
        }
      ]
    },
    {
      "cell_type": "markdown",
      "source": [
        "  11. Write a code to create a tuple with the elements 100, 200, 300 and print it."
      ],
      "metadata": {
        "id": "X1PMtE-di7s1"
      }
    },
    {
      "cell_type": "code",
      "source": [
        "my_tuple = (100, 200, 300)\n",
        "my_tuple"
      ],
      "metadata": {
        "colab": {
          "base_uri": "https://localhost:8080/"
        },
        "id": "O4bZq7swjFqV",
        "outputId": "7afaa238-4584-4884-e3ca-e34fce81597e"
      },
      "execution_count": 12,
      "outputs": [
        {
          "output_type": "execute_result",
          "data": {
            "text/plain": [
              "(100, 200, 300)"
            ]
          },
          "metadata": {},
          "execution_count": 12
        }
      ]
    },
    {
      "cell_type": "markdown",
      "source": [
        "  12. Write a code to access the second-to-last element of the tuple ('red', 'green', 'blue', 'yellow')."
      ],
      "metadata": {
        "id": "SrAq1ImqjHSt"
      }
    },
    {
      "cell_type": "code",
      "source": [
        "my_tuple = ('red', 'green', 'blue', 'yellow')\n",
        "my_tuple[-2]"
      ],
      "metadata": {
        "colab": {
          "base_uri": "https://localhost:8080/",
          "height": 35
        },
        "id": "5zxPpFusjQx1",
        "outputId": "84f8fcce-771d-4506-b840-7f951aced758"
      },
      "execution_count": 13,
      "outputs": [
        {
          "output_type": "execute_result",
          "data": {
            "text/plain": [
              "'blue'"
            ],
            "application/vnd.google.colaboratory.intrinsic+json": {
              "type": "string"
            }
          },
          "metadata": {},
          "execution_count": 13
        }
      ]
    },
    {
      "cell_type": "markdown",
      "source": [
        "  13. Write a code to find the minimum number in the tuple (10, 20, 5, 15)."
      ],
      "metadata": {
        "id": "Z16_DvJsjSql"
      }
    },
    {
      "cell_type": "code",
      "source": [
        "my_tuple = (10, 20, 5, 15)\n",
        "print(min(my_tuple))"
      ],
      "metadata": {
        "colab": {
          "base_uri": "https://localhost:8080/"
        },
        "id": "zJP3o2eRjdeV",
        "outputId": "7a109a24-86b4-463f-9ac6-170018a1a3d0"
      },
      "execution_count": 14,
      "outputs": [
        {
          "output_type": "stream",
          "name": "stdout",
          "text": [
            "5\n"
          ]
        }
      ]
    },
    {
      "cell_type": "markdown",
      "source": [
        "  14. Write a code to find the index of the element \"cat\" in the tuple ('dog', 'cat', 'rabbit')."
      ],
      "metadata": {
        "id": "sFSOagbQjfel"
      }
    },
    {
      "cell_type": "code",
      "source": [
        "my_tuple = ('dog', 'cat', 'rabbit')\n",
        "print(my_tuple.index(\"cat\"))"
      ],
      "metadata": {
        "colab": {
          "base_uri": "https://localhost:8080/"
        },
        "id": "0L5r7tWOjpm1",
        "outputId": "87687ac3-c841-49ca-a8c7-bbe6e6c4a2fb"
      },
      "execution_count": 15,
      "outputs": [
        {
          "output_type": "stream",
          "name": "stdout",
          "text": [
            "1\n"
          ]
        }
      ]
    },
    {
      "cell_type": "markdown",
      "source": [
        "  15.  Write a code to create a tuple containing three different fruits and check if \"kiwi\" is in it."
      ],
      "metadata": {
        "id": "e6ANKiXAjsFV"
      }
    },
    {
      "cell_type": "code",
      "source": [
        "fruits_tuple = (\"apple\", \"banana\", \"orange\")\n",
        "print(\"kiwi\" in fruits_tuple)"
      ],
      "metadata": {
        "colab": {
          "base_uri": "https://localhost:8080/"
        },
        "id": "vMmn8px9j2Tt",
        "outputId": "f5934b92-a40a-471b-9ee6-932c62229696"
      },
      "execution_count": 16,
      "outputs": [
        {
          "output_type": "stream",
          "name": "stdout",
          "text": [
            "False\n"
          ]
        }
      ]
    },
    {
      "cell_type": "markdown",
      "source": [
        "  16. Write a code to create a set with the elements 'a', 'b', 'c' and print it."
      ],
      "metadata": {
        "id": "LzlXGoVBj4ht"
      }
    },
    {
      "cell_type": "code",
      "source": [
        "my_set = {'a', 'b', 'c'}\n",
        "my_set"
      ],
      "metadata": {
        "colab": {
          "base_uri": "https://localhost:8080/"
        },
        "id": "PwrntXyYkDKd",
        "outputId": "9cc28832-2fd1-4099-e537-e3eaa491c9a6"
      },
      "execution_count": 17,
      "outputs": [
        {
          "output_type": "execute_result",
          "data": {
            "text/plain": [
              "{'a', 'b', 'c'}"
            ]
          },
          "metadata": {},
          "execution_count": 17
        }
      ]
    },
    {
      "cell_type": "markdown",
      "source": [
        "  17. Write a code to clear all elements from the set {1, 2, 3, 4, 5}."
      ],
      "metadata": {
        "id": "jmUOPZM3kFBv"
      }
    },
    {
      "cell_type": "code",
      "source": [
        "my_set = {1, 2, 3, 4, 5}\n",
        "my_set.clear()\n",
        "my_set"
      ],
      "metadata": {
        "colab": {
          "base_uri": "https://localhost:8080/"
        },
        "id": "-OULyexekPLt",
        "outputId": "5e6cd79f-1637-44da-9a16-4535e045bea7"
      },
      "execution_count": 18,
      "outputs": [
        {
          "output_type": "execute_result",
          "data": {
            "text/plain": [
              "set()"
            ]
          },
          "metadata": {},
          "execution_count": 18
        }
      ]
    },
    {
      "cell_type": "markdown",
      "source": [
        "  18.  Write a code to remove the element 4 from the set {1, 2, 3, 4}."
      ],
      "metadata": {
        "id": "n6LroZywkRxt"
      }
    },
    {
      "cell_type": "code",
      "source": [
        "my_set = {1, 2, 3, 4}\n",
        "my_set.remove(4)\n",
        "my_set"
      ],
      "metadata": {
        "colab": {
          "base_uri": "https://localhost:8080/"
        },
        "id": "AHFfF2vLkbTl",
        "outputId": "e3952cb3-a02c-4c00-b97b-4f0ee62592d4"
      },
      "execution_count": 19,
      "outputs": [
        {
          "output_type": "execute_result",
          "data": {
            "text/plain": [
              "{1, 2, 3}"
            ]
          },
          "metadata": {},
          "execution_count": 19
        }
      ]
    },
    {
      "cell_type": "markdown",
      "source": [
        "  19. Write a code to find the union of two sets {1, 2, 3} and {3, 4, 5}."
      ],
      "metadata": {
        "id": "xKTDrKmqkduN"
      }
    },
    {
      "cell_type": "code",
      "source": [
        "set1 = {1, 2, 3}\n",
        "set2 = {3, 4, 5}\n",
        "union_set = set1.union(set2)\n",
        "union_set"
      ],
      "metadata": {
        "colab": {
          "base_uri": "https://localhost:8080/"
        },
        "id": "R4ZXDSUfk7h1",
        "outputId": "be34736e-230e-4cce-aa1a-7f7cea528c46"
      },
      "execution_count": 20,
      "outputs": [
        {
          "output_type": "execute_result",
          "data": {
            "text/plain": [
              "{1, 2, 3, 4, 5}"
            ]
          },
          "metadata": {},
          "execution_count": 20
        }
      ]
    },
    {
      "cell_type": "markdown",
      "source": [
        "  20.  Write a code to find the intersection of two sets {1, 2, 3} and {2, 3, 4}."
      ],
      "metadata": {
        "id": "00cn1c_Jk-29"
      }
    },
    {
      "cell_type": "code",
      "source": [
        "set1 = {1, 2, 3}\n",
        "set2 = {2, 3, 4}\n",
        "intersection_set = set1.intersection(set2)\n",
        "intersection_set"
      ],
      "metadata": {
        "colab": {
          "base_uri": "https://localhost:8080/"
        },
        "id": "u-R9b5MYlIZu",
        "outputId": "9c2470b3-963f-4334-fc3b-cc2c9c15326c"
      },
      "execution_count": 21,
      "outputs": [
        {
          "output_type": "execute_result",
          "data": {
            "text/plain": [
              "{2, 3}"
            ]
          },
          "metadata": {},
          "execution_count": 21
        }
      ]
    },
    {
      "cell_type": "markdown",
      "source": [
        "  21. Write a code to create a dictionary with the keys \"name\", \"age\", and \"city\", and print it."
      ],
      "metadata": {
        "id": "Clj1-Ju8lL-N"
      }
    },
    {
      "cell_type": "code",
      "source": [
        "my_dict = {\"name\": \"Krishna\", \"age\": 29, \"city\": \"Kolkata\"}\n",
        "my_dict"
      ],
      "metadata": {
        "colab": {
          "base_uri": "https://localhost:8080/"
        },
        "id": "AfSWgD9zlY7d",
        "outputId": "a3fd2c60-f758-4640-c7d2-6ff637b2fc87"
      },
      "execution_count": 23,
      "outputs": [
        {
          "output_type": "execute_result",
          "data": {
            "text/plain": [
              "{'name': 'Krishna', 'age': 29, 'city': 'Kolkata'}"
            ]
          },
          "metadata": {},
          "execution_count": 23
        }
      ]
    },
    {
      "cell_type": "markdown",
      "source": [
        "  22. Write a code to add a new key-value pair \"country\": \"USA\" to the dictionary {'name': 'John', 'age': 25}."
      ],
      "metadata": {
        "id": "SXvfD70OlnoV"
      }
    },
    {
      "cell_type": "code",
      "source": [
        "my_dict = {'name': 'John', 'age': 25}\n",
        "my_dict[\"country\"] = \"USA\"\n",
        "my_dict"
      ],
      "metadata": {
        "colab": {
          "base_uri": "https://localhost:8080/"
        },
        "id": "2r4SILV3lysF",
        "outputId": "8796100a-7264-4437-cce5-a5bd3d9b3968"
      },
      "execution_count": 24,
      "outputs": [
        {
          "output_type": "execute_result",
          "data": {
            "text/plain": [
              "{'name': 'John', 'age': 25, 'country': 'USA'}"
            ]
          },
          "metadata": {},
          "execution_count": 24
        }
      ]
    },
    {
      "cell_type": "markdown",
      "source": [
        "  23. Write a code to access the value associated with the key \"name\" in the dictionary {'name': 'Alice', 'age': 30'}."
      ],
      "metadata": {
        "id": "BZ8X3Xl3l0j1"
      }
    },
    {
      "cell_type": "code",
      "source": [
        "my_dict = {'name': 'Alice', 'age': 30}\n",
        "print(my_dict['name'])\n"
      ],
      "metadata": {
        "colab": {
          "base_uri": "https://localhost:8080/"
        },
        "id": "c33tuSUul_WV",
        "outputId": "039c4db2-afa9-4798-af69-61dbe487cecd"
      },
      "execution_count": 25,
      "outputs": [
        {
          "output_type": "stream",
          "name": "stdout",
          "text": [
            "Alice\n"
          ]
        }
      ]
    },
    {
      "cell_type": "markdown",
      "source": [
        "  24. Write a code to remove the key \"age\" from the dictionary {'name': 'Bob', 'age': 22, 'city': 'New York'}."
      ],
      "metadata": {
        "id": "3BY-MgMrmB5l"
      }
    },
    {
      "cell_type": "code",
      "source": [
        "my_dict = {'name': 'Bob', 'age': 22, 'city': 'New York'}\n",
        "del my_dict[\"age\"]\n",
        "my_dict"
      ],
      "metadata": {
        "colab": {
          "base_uri": "https://localhost:8080/"
        },
        "id": "bUY_W5UbmRHl",
        "outputId": "aeb3dfc3-dbf6-4dbc-995e-412c3e5a46c4"
      },
      "execution_count": 26,
      "outputs": [
        {
          "output_type": "execute_result",
          "data": {
            "text/plain": [
              "{'name': 'Bob', 'city': 'New York'}"
            ]
          },
          "metadata": {},
          "execution_count": 26
        }
      ]
    },
    {
      "cell_type": "markdown",
      "source": [
        "  25. Write a code to check if the key \"city\" exists in the dictionary {'name': 'Alice', 'city': 'Paris'}."
      ],
      "metadata": {
        "id": "ayuhWimFmTLF"
      }
    },
    {
      "cell_type": "code",
      "source": [
        "my_dict = {'name': 'Alice', 'city': 'Paris'}\n",
        "print(\"city\" in my_dict)"
      ],
      "metadata": {
        "colab": {
          "base_uri": "https://localhost:8080/"
        },
        "id": "hgylkPLkmdGN",
        "outputId": "6efe9693-c595-4a60-e9e7-b505afa7362d"
      },
      "execution_count": 27,
      "outputs": [
        {
          "output_type": "stream",
          "name": "stdout",
          "text": [
            "True\n"
          ]
        }
      ]
    },
    {
      "cell_type": "markdown",
      "source": [
        "  26. Write a code to create a list, a tuple, and a dictionary, and print them all."
      ],
      "metadata": {
        "id": "fYBtMXYUmfYl"
      }
    },
    {
      "cell_type": "code",
      "source": [
        "# Create a list\n",
        "my_list = [1, 2, 3, 4, 5]\n",
        "\n",
        "# Create a tuple\n",
        "my_tuple = (10, 20, 30, 40, 50)\n",
        "\n",
        "# Create a dictionary\n",
        "my_dict = {\"name\": \"Krishna\", \"age\": 29, \"city\": \"Kolkata\"}\n",
        "\n",
        "# Print them all\n",
        "print(\"My list:\", my_list)\n",
        "print(\"My tuple:\", my_tuple)\n",
        "print(\"My dictionary:\", my_dict)\n"
      ],
      "metadata": {
        "colab": {
          "base_uri": "https://localhost:8080/"
        },
        "id": "aOE_AFORmqpl",
        "outputId": "6a66e267-e2d8-4331-82bb-c791b17182f6"
      },
      "execution_count": 28,
      "outputs": [
        {
          "output_type": "stream",
          "name": "stdout",
          "text": [
            "My list: [1, 2, 3, 4, 5]\n",
            "My tuple: (10, 20, 30, 40, 50)\n",
            "My dictionary: {'name': 'Krishna', 'age': 29, 'city': 'Kolkata'}\n"
          ]
        }
      ]
    },
    {
      "cell_type": "markdown",
      "source": [
        "  27.  Write a code to create a list of 5 random numbers between 1 and 100, sort it in ascending order, and print the result."
      ],
      "metadata": {
        "id": "guCR2-xAmsiN"
      }
    },
    {
      "cell_type": "code",
      "source": [
        "import random\n",
        "\n",
        "random_numbers = [random.randint(1, 100) for _ in range(5)]\n",
        "random_numbers.sort()\n",
        "random_numbers"
      ],
      "metadata": {
        "colab": {
          "base_uri": "https://localhost:8080/"
        },
        "id": "tg90gS7Dm3-1",
        "outputId": "a9dc4ac9-4fc3-4676-c352-99c26fef901a"
      },
      "execution_count": 29,
      "outputs": [
        {
          "output_type": "execute_result",
          "data": {
            "text/plain": [
              "[8, 43, 61, 74, 86]"
            ]
          },
          "metadata": {},
          "execution_count": 29
        }
      ]
    },
    {
      "cell_type": "markdown",
      "source": [
        "  28. Write a code to create a list with strings and print the element at the third index."
      ],
      "metadata": {
        "id": "ms7_5L3om54F"
      }
    },
    {
      "cell_type": "code",
      "source": [
        "string_list = [\"apple\", \"banana\", \"cherry\", \"date\", \"elderberry\"]\n",
        "string_list[2]"
      ],
      "metadata": {
        "colab": {
          "base_uri": "https://localhost:8080/",
          "height": 35
        },
        "id": "_QuDqMAznEY8",
        "outputId": "3a8b26f5-9d23-4ddb-a8f0-9aa68f159cde"
      },
      "execution_count": 30,
      "outputs": [
        {
          "output_type": "execute_result",
          "data": {
            "text/plain": [
              "'cherry'"
            ],
            "application/vnd.google.colaboratory.intrinsic+json": {
              "type": "string"
            }
          },
          "metadata": {},
          "execution_count": 30
        }
      ]
    },
    {
      "cell_type": "markdown",
      "source": [
        "  29. Write a code to combine two dictionaries into one and print the result."
      ],
      "metadata": {
        "id": "_wZnl3lRnGP1"
      }
    },
    {
      "cell_type": "code",
      "source": [
        "dict1 = {\"a\": 1, \"b\": 2}\n",
        "dict2 = {\"c\": 3, \"d\": 4}\n",
        "\n",
        "combined_dict = {**dict1, **dict2}\n",
        "combined_dict"
      ],
      "metadata": {
        "colab": {
          "base_uri": "https://localhost:8080/"
        },
        "id": "HyFok1QEnQa1",
        "outputId": "b51787f3-fb33-4c01-c8c1-6799aeef4e43"
      },
      "execution_count": 31,
      "outputs": [
        {
          "output_type": "execute_result",
          "data": {
            "text/plain": [
              "{'a': 1, 'b': 2, 'c': 3, 'd': 4}"
            ]
          },
          "metadata": {},
          "execution_count": 31
        }
      ]
    },
    {
      "cell_type": "markdown",
      "source": [
        "  30. Write a code to convert a list of strings into a set."
      ],
      "metadata": {
        "id": "OoPTFFR2nSq9"
      }
    },
    {
      "cell_type": "code",
      "source": [
        "string_list = [\"apple\", \"banana\", \"cherry\", \"apple\", \"date\"]\n",
        "string_set = set(string_list)\n",
        "string_set"
      ],
      "metadata": {
        "colab": {
          "base_uri": "https://localhost:8080/"
        },
        "id": "JZvFXye1nbZd",
        "outputId": "8e544a75-243d-464b-aa1f-9d68b9b78095"
      },
      "execution_count": 32,
      "outputs": [
        {
          "output_type": "execute_result",
          "data": {
            "text/plain": [
              "{'apple', 'banana', 'cherry', 'date'}"
            ]
          },
          "metadata": {},
          "execution_count": 32
        }
      ]
    }
  ]
}